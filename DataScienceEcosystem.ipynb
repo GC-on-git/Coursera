{
 "cells": [
  {
   "attachments": {},
   "cell_type": "markdown",
   "id": "a812f260-106d-49ed-95cb-375af608ed4b",
   "metadata": {},
   "source": [
    "# Data Science Tools and Ecosystem "
   ]
  },
  {
   "cell_type": "markdown",
   "id": "be0d9d11-5c85-4681-a1ea-0b69bd9d2100",
   "metadata": {},
   "source": [
    "## Author\n",
    "Anurag Gan Chaudhuri"
   ]
  },
  {
   "cell_type": "markdown",
   "id": "6ffe28d6-f19a-4e83-91e9-b4e0f500bfce",
   "metadata": {},
   "source": [
    "In this notebook the various important Data Science Tools and Ecosystem are summarized"
   ]
  },
  {
   "cell_type": "markdown",
   "id": "05010159-554d-4a28-8b74-dca1e029f8a4",
   "metadata": {},
   "source": [
    "**Objectives:**\n",
    "<ul>\n",
    "    <li>Popular Languages in Data Science</li>\n",
    "    <li>Common Libraries in Data Science</li>\n",
    "    <li>Data Science Tools</li>\n",
    "    <li>Arithmetic operations in Python</li>\n",
    "</ul>"
   ]
  },
  {
   "cell_type": "markdown",
   "id": "f3d6aaab-02d3-49f1-89a2-27489c6314b9",
   "metadata": {},
   "source": [
    "\n",
    "<ul>\n",
    "    <li><h2>Some of the popular languages that Data Scientists use are: </h2></li>\n",
    "</ul>\n",
    "<ol>\n",
    "<li>Python</li>\n",
    "<li>R</li>\n",
    "<li>Julia</li>\n",
    "<li>Scala</li>\n",
    "<li>SQL</li>\n",
    "<li>C++</li>\n",
    "<li</ol>"
   ]
  },
  {
   "cell_type": "markdown",
   "id": "9b3d8d8d-ab44-4502-b1fd-9e3a44906f43",
   "metadata": {},
   "source": [
    "\n",
    "- Some of the commonly used libraries used by Data Scientists include:\n",
    "\r",
    "1. Numpy\n",
    "2. Pandas\n",
    "3. Matplotlib\n",
    "4. Seaborn\n",
    "5. ggplot\n",
    "6. Pyplot\n",
    "7. Sci-kit learn / sklearn\n",
    "8. Tensorflow\n"
   ]
  },
  {
   "cell_type": "markdown",
   "id": "d43db6f4-882f-47d3-9d2f-f7c2e886e4f8",
   "metadata": {},
   "source": [
    "- Table of data science tools\n",
    "|Data Science Tools|\n",
    "|------------------|\n",
    "|Apache Hadoop|\n",
    "|Apache Spark|\n",
    "|Jupyterlab|\n",
    "|R"
   ]
  },
  {
   "cell_type": "markdown",
   "id": "51ffe34d-3b2a-4034-8a8e-2cfc50a44f5b",
   "metadata": {},
   "source": [
    "### Below are a few examples of evaluating arithmetic expressions in Python.\r\n"
   ]
  },
  {
   "cell_type": "code",
   "execution_count": 2,
   "id": "3e6149ab-bb61-4135-ba6d-f33293716009",
   "metadata": {},
   "outputs": [
    {
     "data": {
      "text/plain": [
       "17"
      ]
     },
     "execution_count": 2,
     "metadata": {},
     "output_type": "execute_result"
    }
   ],
   "source": [
    "# multiply and add integers\n",
    "(3*4)+5"
   ]
  },
  {
   "cell_type": "code",
   "execution_count": 5,
   "id": "249689ab-192c-488c-be1d-c0ba9f756544",
   "metadata": {},
   "outputs": [
    {
     "name": "stdout",
     "output_type": "stream",
     "text": [
      "3 hours and 20 minutes\n"
     ]
    }
   ],
   "source": [
    "# Minutes to hours\n",
    "min_given=200\n",
    "hour=min_given//60\n",
    "min_rem=min_given%60\n",
    "print(f\"{hour} hours and {min_rem} minutes\")\n"
   ]
  }
 ],
 "metadata": {
  "kernelspec": {
   "display_name": "Python 3 (ipykernel)",
   "language": "python",
   "name": "python3"
  },
  "language_info": {
   "codemirror_mode": {
    "name": "ipython",
    "version": 3
   },
   "file_extension": ".py",
   "mimetype": "text/x-python",
   "name": "python",
   "nbconvert_exporter": "python",
   "pygments_lexer": "ipython3",
   "version": "3.10.8"
  }
 },
 "nbformat": 4,
 "nbformat_minor": 5
}
